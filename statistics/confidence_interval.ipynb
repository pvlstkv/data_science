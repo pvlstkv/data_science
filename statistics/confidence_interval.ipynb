{
  "nbformat": 4,
  "nbformat_minor": 0,
  "metadata": {
    "colab": {
      "provenance": []
    },
    "kernelspec": {
      "name": "python3",
      "display_name": "Python 3"
    },
    "language_info": {
      "name": "python"
    },
    "gpuClass": "standard"
  },
  "cells": [
    {
      "cell_type": "code",
      "execution_count": 1,
      "metadata": {
        "id": "gJpbKRFjtBYl"
      },
      "outputs": [],
      "source": [
        "import numpy as np\n",
        "import matplotlib.pyplot as plt\n",
        "import seaborn as sns\n",
        "from scipy.stats import t, norm\n",
        "from scipy import stats"
      ]
    },
    {
      "cell_type": "code",
      "source": [
        "general_population = np.random.normal(loc = 5, size=1_000_000)\n",
        "\n",
        "def get_confidence_interval(sample, confidence_level=0.95):\n",
        "  m = sample.mean()\n",
        "  sigma = sum(np.power([i - m], 2) for i in sample)/(len(sample) - 1)\n",
        "  dof = len(sample) - 1\n",
        "  alpha = 1 - confidence_level\n",
        "  t_crit = t.ppf(confidence_level + alpha/2, dof)\n",
        "  sem = sigma / np.sqrt(len(sample))\n",
        "  l = m - t_crit * sem\n",
        "  r = m + t_crit * sem\n",
        "  return (float(l), float(r))"
      ],
      "metadata": {
        "id": "xl2rghgUtH6P"
      },
      "execution_count": 20,
      "outputs": []
    },
    {
      "cell_type": "code",
      "source": [
        "series_count = 100\n",
        "sample_size = 10_000\n",
        "\n",
        "intervals = []\n",
        "for _ in range(series_count):\n",
        "  sample = np.random.choice(general_population, size = sample_size, replace=False)\n",
        "  intervals.append(get_confidence_interval(sample, confidence_level=0.95))\n",
        "\n",
        "is_in_interval = []\n",
        "\n",
        "general_mean = general_population.mean()\n",
        "\n",
        "for interval in intervals:\n",
        "  if interval[0] < general_mean < interval[1]:\n",
        "    is_in_interval.append(1)\n",
        "  else:\n",
        "    is_in_interval.append(0)\n",
        "  \n",
        "print('percentage of intervals covering the true mean ', sum(is_in_interval) * 100/ len(is_in_interval))"
      ],
      "metadata": {
        "colab": {
          "base_uri": "https://localhost:8080/"
        },
        "id": "xOeTdf_3t8F7",
        "outputId": "cf1c938f-56ec-48a8-cba1-71a2f57e2b17"
      },
      "execution_count": 30,
      "outputs": [
        {
          "output_type": "stream",
          "name": "stdout",
          "text": [
            "percentage of intervals covering the true mean  97.0\n"
          ]
        }
      ]
    },
    {
      "cell_type": "code",
      "source": [
        "gp_mean = general_population.mean()\n",
        "fig, axs = plt.subplots(1, 2)\n",
        "fig.set_size_inches(fig.get_size_inches() + (10, 5))\n",
        "xs = np.tile(np.arange(len(intervals)), (2,1))\n",
        "ys = np.array(intervals).T\n",
        "interval_is_cover_mean = [interval[0] < gp_mean < interval[1] for interval in intervals]\n",
        "colors = np.where(interval_is_cover_mean, 'b', 'r')\n",
        "axs[0].plot(xs, ys,  marker=\".\", color='b')\n",
        "axs[0].axhline(y = gp_mean, color='g')\n",
        "\n",
        "out_of_interval = [(i, interval) for i, interval in enumerate(intervals) if not interval[0] < gp_mean < interval[1]]\n",
        "print(out_of_interval)\n",
        "for out in out_of_interval:\n",
        "  axs[0].plot((out[0], out[0]), out[1], color='r', marker='.')\n",
        "\n",
        "\n",
        "colors = np.where(interval[0] < gp_mean )\n",
        "xs = np.arange(len(intervals))\n",
        "axs[1].set_ylim(np.array(intervals).min() - 0.1, np.array(intervals).max() + 0.1)\n",
        "for x,interval in zip(xs, intervals):\n",
        "  color = 'b' if interval[0] < gp_mean < interval[1] else 'r'\n",
        "  axs[1].vlines(x=x, color=color, ymin=interval[0], ymax=interval[1], linestyle='solid')\n",
        "axs[1].axhline(y=gp_mean, color='g')\n",
        "fig.suptitle('Confidence levels')\n",
        "fig.show()"
      ],
      "metadata": {
        "colab": {
          "base_uri": "https://localhost:8080/",
          "height": 619
        },
        "id": "WbOGCi_guUXR",
        "outputId": "ad6cf1ad-ecb3-4dd8-bdf5-8316514cde85"
      },
      "execution_count": 31,
      "outputs": [
        {
          "output_type": "stream",
          "name": "stdout",
          "text": [
            "[(29, (4.954032305398349, 4.993252252417103)), (63, (4.953209315301631, 4.993247206818467)), (81, (4.962946284807678, 5.001236468716877))]\n"
          ]
        },
        {
          "output_type": "display_data",
          "data": {
            "text/plain": [
              "<Figure size 1152x648 with 2 Axes>"
            ],
            "image/png": "[encoded data removed]"
          },
          "metadata": {
            "needs_background": "light"
          }
        }
      ]
    },
    {
      "cell_type": "code",
      "source": [
        "intervals"
      ],
      "metadata": {
        "colab": {
          "base_uri": "https://localhost:8080/"
        },
        "id": "tHjXA9lGIoxi",
        "outputId": "ba6f25d6-1f0f-421b-9951-2b03d1342e18"
      },
      "execution_count": 27,
      "outputs": [
        {
          "output_type": "execute_result",
          "data": {
            "text/plain": [
              "[(4.986664824454363, 5.025399558434908),\n",
              " (4.979553853836023, 5.018499881343576),\n",
              " (4.961823719632729, 5.0004341864801365),\n",
              " (4.978382698427105, 5.017919996581161),\n",
              " (4.962013939611911, 5.001535053329929),\n",
              " (4.9771477592791, 5.016899005729507),\n",
              " (4.960031520122257, 4.999093252042851),\n",
              " (4.997062470365824, 5.035962993398105),\n",
              " (4.988896114484268, 5.027261607313816),\n",
              " (4.97823721363365, 5.016677421869994),\n",
              " (4.990385155662565, 5.0298075946719365),\n",
              " (4.95778931563445, 4.995683870908179),\n",
              " (4.9674431176729135, 5.006273173629904),\n",
              " (4.9856322351253235, 5.024883264339416),\n",
              " (4.969524306650616, 5.010075900443049),\n",
              " (4.977852157157218, 5.016737290709545),\n",
              " (4.990797415066356, 5.0301391655560925),\n",
              " (5.0025696767931365, 5.041887526015213),\n",
              " (4.980066257390182, 5.0197318208473325),\n",
              " (4.980150721335544, 5.019491398215731),\n",
              " (4.9897350661599145, 5.028815861833161),\n",
              " (4.9768306272295595, 5.01497619823778),\n",
              " (4.990373631192791, 5.028959795784437),\n",
              " (4.983792937013295, 5.023363251373652),\n",
              " (4.981065485356646, 5.019800979706031),\n",
              " (5.0007597354975974, 5.040012877686854),\n",
              " (4.984076222168208, 5.022709775693602),\n",
              " (4.9722491715085875, 5.011845998177441),\n",
              " (4.975467015094436, 5.014382924061838),\n",
              " (4.981749135522898, 5.020213263415419),\n",
              " (4.9875645960294746, 5.026033523180472),\n",
              " (4.981000815097379, 5.019281488928743),\n",
              " (4.991029440043253, 5.030075153807378),\n",
              " (4.975038216632728, 5.01337128771702),\n",
              " (4.992454322048421, 5.031753656579498),\n",
              " (4.998964056472707, 5.03855587512822),\n",
              " (4.97463384051476, 5.013243155179057),\n",
              " (4.975051547019915, 5.014313694424254),\n",
              " (4.97722343465818, 5.016551445244829),\n",
              " (4.976201278975709, 5.015529880298778),\n",
              " (4.993630402392416, 5.032471507723445),\n",
              " (4.9880534567337635, 5.026530739763714),\n",
              " (4.974017925944664, 5.012598112903254),\n",
              " (4.985880914615523, 5.02604392715047),\n",
              " (4.974818253481288, 5.0141861469158275),\n",
              " (4.981594319799672, 5.0211973826332486),\n",
              " (4.9806353903884455, 5.019494939392579),\n",
              " (4.9765813527563925, 5.016566384017981),\n",
              " (4.98322558943787, 5.02270787850861),\n",
              " (4.975992388354068, 5.01519271707459),\n",
              " (4.979765471317115, 5.017120920884623),\n",
              " (4.978161411618489, 5.016658218464368),\n",
              " (4.978026420862764, 5.016900328838813),\n",
              " (4.985883223647861, 5.025279251284721),\n",
              " (4.975301033940411, 5.015056484378674),\n",
              " (4.9719381841106, 5.011095772829682),\n",
              " (4.981974285936626, 5.021808648278813),\n",
              " (4.97640265241728, 5.016190295470756),\n",
              " (4.995417502873215, 5.034757373381472),\n",
              " (4.981706625448165, 5.0205519879832945),\n",
              " (4.977668116893379, 5.016017102543029),\n",
              " (4.982674107791067, 5.021462535124972),\n",
              " (4.9718392076008096, 5.011140613609496),\n",
              " (4.996262828662341, 5.035030517857238),\n",
              " (4.979526802320289, 5.019487455634418),\n",
              " (4.9747579729753095, 5.014049939093782),\n",
              " (4.997628528863149, 5.036940381868933),\n",
              " (4.978763995255094, 5.018120300089003),\n",
              " (4.975489776545729, 5.014120984597255),\n",
              " (4.989270905367597, 5.028431825775215),\n",
              " (5.000693827040803, 5.039602419513517),\n",
              " (4.965867738953441, 5.00513926962348),\n",
              " (4.9833765607742535, 5.023146881915505),\n",
              " (4.969566343380501, 5.008446396123826),\n",
              " (4.9941290925619635, 5.033470957281572),\n",
              " (5.002613487855699, 5.041555252018368),\n",
              " (4.970594068251506, 5.010627549374821),\n",
              " (4.987056259906286, 5.02656889442793),\n",
              " (4.98542324526936, 5.024552268175559),\n",
              " (4.977983827964539, 5.015938488831121),\n",
              " (4.980598581690276, 5.019974622583374),\n",
              " (4.979687344352138, 5.017720325440097),\n",
              " (4.99503893720152, 5.033383605708621),\n",
              " (4.977642346355675, 5.01700648750652),\n",
              " (4.977477539073209, 5.0169937238466025),\n",
              " (4.994576097244271, 5.033490244974941),\n",
              " (4.987471842650572, 5.026497685331569),\n",
              " (4.9941422242615845, 5.032865562785893),\n",
              " (4.984697313162044, 5.024518966091288),\n",
              " (4.970340202729032, 5.00921737614218),\n",
              " (4.97486909655315, 5.013935111797577),\n",
              " (4.978800223923012, 5.0187603689497235),\n",
              " (4.988126064619391, 5.028273555170229),\n",
              " (4.978198191451726, 5.017696033571431),\n",
              " (5.003652950091762, 5.042704153963287),\n",
              " (4.983536679529142, 5.023699653537784),\n",
              " (4.983101562340391, 5.022346333920369),\n",
              " (4.979113162242046, 5.018442283892889),\n",
              " (4.990849215967506, 5.0295879357779025),\n",
              " (4.983562373004864, 5.022953923010259)]"
            ]
          },
          "metadata": {},
          "execution_count": 27
        }
      ]
    },
    {
      "cell_type": "code",
      "source": [],
      "metadata": {
        "id": "CBB92ENEPThf"
      },
      "execution_count": null,
      "outputs": []
    }
  ]
}