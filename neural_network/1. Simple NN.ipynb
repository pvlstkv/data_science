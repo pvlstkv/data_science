{
 "cells": [
  {
   "cell_type": "code",
   "execution_count": 4,
   "id": "4f8cc380",
   "metadata": {},
   "outputs": [],
   "source": [
    "import numpy as np\n",
    "import matplotlib.pyplot as plt\n",
    "import scipy.special"
   ]
  },
  {
   "cell_type": "code",
   "execution_count": 5,
   "id": "8e62bc47",
   "metadata": {},
   "outputs": [],
   "source": [
    "class NeuralNetwork:\n",
    "#     инициализация сети\n",
    "    def __init__(self, input_nodes, hidden_nodes, output_nodes, learning_rate):\n",
    "        self.inodes = input_nodes\n",
    "        self.hnodes = hidden_nodes\n",
    "        self.onodes = output_nodes\n",
    "        \n",
    "        self.activation_func = lambda x:scipy.special.expit(x)\n",
    "        self.wih = np.random.normal(0.0, pow(self.inodes, -0.5),\n",
    "                                   (self.hnodes, self.inodes))\n",
    "        self.who = np.random.normal(0.0, pow(self.hnodes, -0.5),\n",
    "                                   (self.onodes, self.hnodes))\n",
    "        \n",
    "        self.lr = learning_rate\n",
    "        \n",
    "        self.epochs = []\n",
    "        self.efficiency = []\n",
    "        \n",
    "        self.who_remarks = []\n",
    "        self.wih_remarks = []\n",
    "        self.i = 0\n",
    "\n",
    "#     тренировка\n",
    "    def train_one_dataset(self, inputs_list, targets_list):\n",
    "        inputs = np.array(inputs_list, ndmin=2).T\n",
    "        targets = np.array(targets_list, ndmin=2).T\n",
    "        \n",
    "        hidden_inputs = np.dot(self.wih, inputs)\n",
    "        hidden_outputs = self.activation_func(hidden_inputs)\n",
    "        \n",
    "        final_inputs = np.dot(self.who, hidden_outputs)\n",
    "        final_outputs = self.activation_func(final_inputs)\n",
    "        \n",
    "        output_errors = targets - final_outputs\n",
    "        hidden_errors = np.dot(self.who.T, output_errors)\n",
    "        \n",
    "        self.who += self.lr * np.dot((output_errors * final_outputs *\n",
    "                (1.0 - final_outputs)), np.transpose(hidden_outputs))\n",
    "        \n",
    "        self.wih += self.lr * np.dot((hidden_errors * hidden_outputs *\n",
    "                (1.0 - hidden_outputs)), np.transpose(inputs))\n",
    "            \n",
    "    \n",
    "    \n",
    "    def train(self, training_data_list, test_data_list, epochs):\n",
    "        self.epochs = []\n",
    "        self.efficiency = []\n",
    "        for e in range(epochs):\n",
    "            for train_record in training_data_list:\n",
    "                all_values = train_record.split(',')\n",
    "                inputs = (np.asfarray(all_values[1:]) / 255 * 0.99) + 0.01\n",
    "                targets = np.zeros(self.onodes)\n",
    "                targets[int(all_values[0])] = 0.99\n",
    "                self.train_one_dataset(inputs, targets)\n",
    "            \n",
    "            self.calc_efficiency(test_data_list)\n",
    "            self.epochs.append(e)\n",
    "    \n",
    "    \n",
    "    def calc_efficiency(self, test_data_list):\n",
    "        scorecard = []\n",
    "        for test_record in test_data_list:\n",
    "            all_values = test_record.split(',')\n",
    "            correct_label = int(all_values[0])\n",
    "            inputs = (np.asfarray(all_values[1:])/ 255 * 0.99) + 0.01\n",
    "            outputs = self.query(inputs)\n",
    "            self_label = np.argmax(outputs)\n",
    "            if correct_label == self_label:\n",
    "                scorecard.append(1)\n",
    "            else:\n",
    "                scorecard.append(0)\n",
    "                \n",
    "        scorecard_array = np.array(scorecard)\n",
    "        self.efficiency.append(scorecard_array.sum() / scorecard_array.size)\n",
    "            \n",
    "#     опрос сети\n",
    "    def query(self, inputs_list):\n",
    "        inputs = np.array(inputs_list, ndmin=2).T\n",
    "        \n",
    "        hidden_inputs = np.dot(self.wih, inputs)\n",
    "        hidden_outputs = self.activation_func(hidden_inputs)\n",
    "        final_inputs = np.dot(self.who, hidden_outputs)\n",
    "        final_outputs = self.activation_func(final_inputs)\n",
    "        \n",
    "        return final_outputs"
   ]
  },
  {
   "cell_type": "code",
   "execution_count": 6,
   "id": "31eec80c",
   "metadata": {},
   "outputs": [],
   "source": [
    "input_nodes = 784\n",
    "hidden_nodes = 300\n",
    "output_nodes = 10\n",
    "\n",
    "learning_rate = 0.01\n",
    "\n",
    "epochs = 15\n",
    "\n",
    "training_data_file = open('mnist_train.csv', 'r')\n",
    "training_data_list = training_data_file.readlines()[:1_000]\n",
    "training_data_file.close()\n",
    "training_data_list = training_data_list\n",
    "    \n",
    "test_data_file = open('mnist_test.csv', 'r')\n",
    "test_data_list = test_data_file.readlines()\n",
    "test_data_file.close()\n"
   ]
  },
  {
   "cell_type": "code",
   "execution_count": 7,
   "id": "20bdf710",
   "metadata": {},
   "outputs": [],
   "source": [
    "n = NeuralNetwork(input_nodes, hidden_nodes, output_nodes, learning_rate)\n",
    "n.train(training_data_list, test_data_list, epochs)"
   ]
  },
  {
   "cell_type": "code",
   "execution_count": 8,
   "id": "461e453a",
   "metadata": {},
   "outputs": [
    {
     "name": "stdout",
     "output_type": "stream",
     "text": [
      "max accuracy is 0.8304 at 14 epoch\n"
     ]
    },
    {
     "data": {
      "image/png": "[encoded data removed]",
      "text/plain": [
       "<Figure size 640x480 with 1 Axes>"
      ]
     },
     "metadata": {},
     "output_type": "display_data"
    }
   ],
   "source": [
    "plt.title('efficiency per epochs')\n",
    "plt.ylabel('efficiency/accuracy')\n",
    "plt.xlabel('epochs')\n",
    "plt.plot(n.epochs, n.efficiency)\n",
    "maxima = np.argmax(np.array(n.efficiency))\n",
    "print(f'max accuracy is {n.efficiency[maxima]} at {maxima} epoch' )"
   ]
  },
  {
   "cell_type": "code",
   "execution_count": 9,
   "id": "a6296af9",
   "metadata": {},
   "outputs": [
    {
     "name": "stdout",
     "output_type": "stream",
     "text": [
      "effieciency =  0.7\n",
      "[1, 0, 1, 1, 1, 1, 1, 1, 0, 0]\n"
     ]
    }
   ],
   "source": [
    "test_data_file = open('mnist_test_10.csv', 'r')\n",
    "test_data_list = test_data_file.readlines()\n",
    "test_data_file.close()\n",
    "\n",
    "scorecard = []\n",
    "\n",
    "for record in test_data_list:\n",
    "    all_values = record.split(',')\n",
    "    correct_label = int(all_values[0])\n",
    "#     print(correct_label, 'true marker')\n",
    "    \n",
    "    inputs = (np.asfarray(all_values[1:]) / 255.0 * 0.99) + 0.01\n",
    "    outputs = n.query(inputs)\n",
    "    label = np.argmax(outputs)\n",
    "#     print(label, 'response NN')\n",
    "    if label == correct_label:\n",
    "        scorecard.append(1)\n",
    "    else:\n",
    "        scorecard.append(0)\n",
    "\n",
    "# print(scorecard)\n",
    "\n",
    "scorecard_array = np.asarray(scorecard)\n",
    "print('effieciency = ', scorecard_array.sum()/ scorecard_array.size)\n",
    "print(scorecard)"
   ]
  },
  {
   "cell_type": "code",
   "execution_count": null,
   "id": "44a17728",
   "metadata": {},
   "outputs": [],
   "source": []
  }
 ],
 "metadata": {
  "kernelspec": {
   "display_name": "Python 3 (ipykernel)",
   "language": "python",
   "name": "python3"
  },
  "language_info": {
   "codemirror_mode": {
    "name": "ipython",
    "version": 3
   },
   "file_extension": ".py",
   "mimetype": "text/x-python",
   "name": "python",
   "nbconvert_exporter": "python",
   "pygments_lexer": "ipython3",
   "version": "3.10.6"
  },
  "varInspector": {
   "cols": {
    "lenName": 16,
    "lenType": 16,
    "lenVar": 40
   },
   "kernels_config": {
    "python": {
     "delete_cmd_postfix": "",
     "delete_cmd_prefix": "del ",
     "library": "var_list.py",
     "varRefreshCmd": "print(var_dic_list())"
    },
    "r": {
     "delete_cmd_postfix": ") ",
     "delete_cmd_prefix": "rm(",
     "library": "var_list.r",
     "varRefreshCmd": "cat(var_dic_list()) "
    }
   },
   "types_to_exclude": [
    "module",
    "function",
    "builtin_function_or_method",
    "instance",
    "_Feature"
   ],
   "window_display": false
  }
 },
 "nbformat": 4,
 "nbformat_minor": 5
}
