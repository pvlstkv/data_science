{
 "cells": [
  {
   "cell_type": "code",
   "execution_count": 1,
   "id": "52dc8fd7",
   "metadata": {},
   "outputs": [],
   "source": [
    "import numpy as np\n",
    "import matplotlib.pyplot as plt\n",
    "import seaborn as sns\n",
    "import scipy.special\n",
    "import math"
   ]
  },
  {
   "cell_type": "code",
   "execution_count": 2,
   "id": "15582736",
   "metadata": {},
   "outputs": [],
   "source": [
    "class NeuralNetwork:\n",
    "    def __init__(self, input_nodes, hidden_nodes, hidden_layers, \n",
    "                 output_nodes,  learning_rate):\n",
    "        self.inodes = input_nodes\n",
    "        self.hnodes = hidden_nodes\n",
    "        self.onodes = output_nodes\n",
    "        self.lr = learning_rate\n",
    "        self.node_params = [input_nodes]\n",
    "        \n",
    "        for i in range(hidden_layers):\n",
    "            self.node_params.append(hidden_nodes)\n",
    "        self.node_params.append(output_nodes)\n",
    "                \n",
    "        self.transition_count = hidden_layers + 1\n",
    "        self.weights = []\n",
    "        for i in range(self.transition_count):\n",
    "            row, column = self.node_params[i + 1], self.node_params[i]\n",
    "            self.weights.append(\n",
    "                np.random.normal(0.0, pow(column, -0.5), (row, column))\n",
    "            )\n",
    "        self.activation_func = lambda x:scipy.special.expit(x)   \n",
    "        self.epochs = []\n",
    "        self.efficiency = []\n",
    "        self.outputs = [None] * (self.transition_count + 1)\n",
    "        self.errors = [None] * (self.transition_count + 1)\n",
    "        \n",
    "    def train_one_data_set(self, inputs_list, targets_list ):\n",
    "        inputs = np.array(inputs_list, ndmin=2).T\n",
    "        targets = np.array(targets_list, ndmin=2).T\n",
    "        remarks = []\n",
    "        \n",
    "        self.outputs[0] = inputs # zero (pseudo) outputs is an input in NN\n",
    "    \n",
    "        for i in range(self.transition_count):\n",
    "            self.outputs[i + 1] = self.activation_func(\n",
    "                np.dot(self.weights[i], self.outputs[i])\n",
    "            )\n",
    "    \n",
    "        self.errors[self.transition_count] = targets - self.outputs[self.transition_count]\n",
    "        for i in reversed(range(self.transition_count)):\n",
    "            self.errors[i] =  np.dot(self.weights[i].T, self.errors[i + 1])\n",
    "        \n",
    "        \n",
    "        for i in reversed(range(self.transition_count)):\n",
    "            remarks.insert(0, self.lr\n",
    "                           * np.dot\n",
    "                           (\n",
    "                (self.errors[i + 1] * self.outputs[i + 1] * (1.0 - self.outputs[i + 1])),\n",
    "                np.transpose(self.outputs[i])\n",
    "                           )\n",
    "            )\n",
    "        \n",
    "        return remarks\n",
    "                    \n",
    "                \n",
    "    def train_one_batch(self, batch, targets):\n",
    "        train_set_remarks = [] # каждый элемент - правка по каждому train set\n",
    "        for i, one_train_dataset in enumerate(batch):\n",
    "            vectored_target = np.zeros(self.onodes) + 0.01\n",
    "            vectored_target[int(targets[i])] = 0.99\n",
    "            one_data_set_remarks = self.train_one_data_set(one_train_dataset, vectored_target)\n",
    "            train_set_remarks.append(one_data_set_remarks)\n",
    "            \n",
    "        # суммирование по каждому обучающему набору внутри батча\n",
    "        summed_remarks = np.array(train_set_remarks, dtype=object).sum(axis=0) # like a tensor (batch_size, transition_count, (n,m)-error correction matrix) )\n",
    "        \n",
    "        for i, correct_weigths in enumerate(summed_remarks):\n",
    "            self.weights[i] += correct_weigths\n",
    "        \n",
    "        \n",
    "    def train(self, training_data_list, test_data_list, epochs, batch_size):\n",
    "        self.epochs = []\n",
    "        self.efficiency = []\n",
    "        for e in range(epochs):\n",
    "            batch_count = int(math.ceil(len(training_data_list) / batch_size))\n",
    "            for i in range(batch_count):\n",
    "                raw_batch = training_data_list[i*batch_size: (i+1)*batch_size]\n",
    "                raw_batch = [record.split(',') for record in raw_batch]\n",
    "                raw_batch = [[int(c) for c in record] for record in raw_batch]\n",
    "                targets = [record[0] for record in raw_batch]\n",
    "                batch = [record[1:] for record in raw_batch]\n",
    "                batch = [(np.asfarray(values) / 255 * 0.99) + 0.01 for values in batch]\n",
    "                self.train_one_batch(batch, targets)\n",
    "    \n",
    "            self.calc_efficiency(test_data_list)\n",
    "            self.epochs.append(e)\n",
    "            \n",
    "    def calc_efficiency(self, test_data_list):\n",
    "        scorecard = []\n",
    "        for test_record in test_data_list:\n",
    "            all_values = test_record.split(',')\n",
    "            correct_label = int(all_values[0])\n",
    "            inputs = (np.asfarray(all_values[1:]) / 255 * 0.99) + 0.01\n",
    "            outputs = self.query(inputs)\n",
    "            self_label = np.argmax(outputs)\n",
    "            if correct_label == self_label:\n",
    "                scorecard.append(1)\n",
    "            else:\n",
    "                scorecard.append(0)\n",
    "        \n",
    "        scorecard_array = np.array(scorecard)\n",
    "        self.efficiency.append(scorecard_array.sum()/ scorecard_array.size)\n",
    "    \n",
    "    def query(self, inputs):\n",
    "        outputs = inputs\n",
    "        for i in range(self.transition_count):\n",
    "            inputs = outputs\n",
    "            outputs = self.activation_func(\n",
    "                np.dot(self.weights[i], inputs)\n",
    "            )            \n",
    "        return outputs\n",
    "        "
   ]
  },
  {
   "cell_type": "code",
   "execution_count": 4,
   "id": "e482f382",
   "metadata": {},
   "outputs": [],
   "source": [
    "input_nodes = 784\n",
    "hidden_nodes = 300\n",
    "output_nodes = 10\n",
    "hidden_layers = 2\n",
    "learning_rate = 0.1\n",
    "\n",
    "nn = NeuralNetwork(input_nodes, hidden_nodes, hidden_layers,\n",
    "                   output_nodes, learning_rate )\n",
    "training_data_file = open('mnist_train.csv', 'r')\n",
    "training_data_list = training_data_file.readlines()[:1_000]\n",
    "training_data_file.close()"
   ]
  },
  {
   "cell_type": "code",
   "execution_count": 5,
   "id": "3f1b99b8",
   "metadata": {},
   "outputs": [],
   "source": [
    "test_data_file = open('mnist_test.csv', 'r')\n",
    "test_data_list = test_data_file.readlines()\n",
    "test_data_file.close()\n",
    "\n",
    "nn.train(training_data_list, test_data_list, 10, 4)"
   ]
  },
  {
   "cell_type": "code",
   "execution_count": 6,
   "id": "3c4423d8",
   "metadata": {},
   "outputs": [
    {
     "name": "stdout",
     "output_type": "stream",
     "text": [
      "max accuracy is 0.8882 at 9 epoch\n"
     ]
    },
    {
     "data": {
      "image/png": "[encoded data removed]",
      "text/plain": [
       "<Figure size 640x480 with 1 Axes>"
      ]
     },
     "metadata": {},
     "output_type": "display_data"
    }
   ],
   "source": [
    "plt.title('efficiency per epochs')\n",
    "plt.ylabel('efficiency/accuracy')\n",
    "plt.xlabel('epochs')\n",
    "plt.plot(nn.epochs, nn.efficiency)\n",
    "maxima = np.argmax(np.array(nn.efficiency))\n",
    "print(f'max accuracy is {nn.efficiency[maxima]} at {maxima} epoch' )"
   ]
  },
  {
   "cell_type": "code",
   "execution_count": null,
   "id": "2f4f9675",
   "metadata": {},
   "outputs": [],
   "source": []
  }
 ],
 "metadata": {
  "kernelspec": {
   "display_name": "Python 3 (ipykernel)",
   "language": "python",
   "name": "python3"
  },
  "language_info": {
   "codemirror_mode": {
    "name": "ipython",
    "version": 3
   },
   "file_extension": ".py",
   "mimetype": "text/x-python",
   "name": "python",
   "nbconvert_exporter": "python",
   "pygments_lexer": "ipython3",
   "version": "3.9.13"
  }
 },
 "nbformat": 4,
 "nbformat_minor": 5
}
