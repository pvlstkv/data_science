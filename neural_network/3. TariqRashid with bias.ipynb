{
 "cells": [
  {
   "cell_type": "code",
   "execution_count": 1,
   "metadata": {
    "id": "jazTKBHreaIw"
   },
   "outputs": [],
   "source": [
    "import numpy as np\n",
    "import scipy.special\n",
    "import matplotlib.pyplot as plt"
   ]
  },
  {
   "cell_type": "code",
   "execution_count": 2,
   "metadata": {
    "executionInfo": {
     "elapsed": 358,
     "status": "ok",
     "timestamp": 1674495171705,
     "user": {
      "displayName": "Pavel Astukov",
      "userId": "16078133139068610731"
     },
     "user_tz": -240
    },
    "id": "Xe8o0Nkyec0c"
   },
   "outputs": [],
   "source": [
    "class NeuralNetworkWithBias:\n",
    "\n",
    "  def __init__(self, input_nodes, hidden_nodes, output_nodes, learn_rate):\n",
    "    \n",
    "    self.inodes = input_nodes\n",
    "    self.hnodes = hidden_nodes\n",
    "    self.onodes = output_nodes\n",
    "\n",
    "    self.lr = learn_rate\n",
    "\n",
    "    # weights input-hidden, hidden-output\n",
    "    self.wih = np.random.normal(0.0, pow(self.hnodes, -0.5), \n",
    "                                (self.hnodes, self.inodes))\n",
    "    self.bih = np.random.normal(0.0, 0.0 + pow(self.hnodes, -0.5), (hidden_nodes, 1))\n",
    "    print(self.bih.shape)\n",
    "\n",
    "\n",
    "    self.who = np.random.normal(0.0, pow(self.onodes, -0.5),\n",
    "                                (self.onodes, self.hnodes)) \n",
    "    self.bho = np.random.normal(0.0 , 0.0 + pow(self.onodes, -0.5), (output_nodes, 1))\n",
    "    self.activation_function = lambda x:scipy.special.expit(x)\n",
    "\n",
    "    self.epochs = []\n",
    "    self.efficiency = []\n",
    "    pass\n",
    "\n",
    "  def train_one_dataset(self, inputs_list, targets_list):\n",
    "    inputs = np.array(inputs_list, ndmin=2).T\n",
    "    targets = np.array(targets_list, ndmin=2).T\n",
    "\n",
    "    hidden_inputs = np.dot(self.wih, inputs) + self.bih\n",
    "    hidden_outputs = self.activation_function(hidden_inputs)\n",
    "\n",
    "    final_inputs = np.dot(self.who, hidden_outputs) + self.bho\n",
    "    final_outputs = self.activation_function(final_inputs)\n",
    "\n",
    "    output_errors = targets - final_outputs\n",
    "    hidden_errors = np.dot(self.who.T, output_errors) # распределение долей ошибок по весам\n",
    "\n",
    "    self.who += self.lr * np.dot((output_errors * final_outputs *\n",
    "                          (1.0 - final_outputs)), np.transpose(hidden_outputs))\n",
    "    \n",
    "    self.bho += (self.lr * output_errors * final_outputs * (1 - final_outputs))\n",
    "    \n",
    "    self.wih += self.lr * np.dot((hidden_errors * hidden_outputs *\n",
    "                          (1.0 - hidden_outputs)), np.transpose(inputs))\n",
    "    self.bih += (self.lr * hidden_errors * hidden_outputs * (1 - hidden_outputs))\n",
    "\n",
    "    pass\n",
    "\n",
    "  def calculate_effiency(self, test_data_list):\n",
    "    scorecard = []\n",
    "    for record in test_data_list:\n",
    "      all_values = record.split(',')\n",
    "      correct_label = int(all_values[0])\n",
    "      inputs = (np.asfarray(all_values[1:]) / 255)\n",
    "      outputs = self.query(inputs)\n",
    "      label = np.argmax(outputs)\n",
    "      if label == correct_label:\n",
    "        scorecard.append(1)\n",
    "      else:\n",
    "        scorecard.append(0)\n",
    "      \n",
    "\n",
    "    scorecard_array = np.array(scorecard)\n",
    "    efficiency = scorecard_array.sum()/ scorecard_array.size \n",
    "    self.efficiency.append(efficiency)\n",
    "\n",
    "  def train(self, training_data_list, test_data_list, epochs):\n",
    "    self.epochs = []\n",
    "    self.efficiency = []\n",
    "    for e in range(epochs):\n",
    "        for train_record in training_data_list:\n",
    "            all_values = train_record.split(',')\n",
    "            inputs = (np.asfarray(all_values[1:]) / 255 * 0.99) + 0.01\n",
    "            targets = np.zeros(self.onodes)\n",
    "            targets[int(all_values[0])] = 0.99\n",
    "            self.train_one_dataset(inputs, targets)\n",
    "\n",
    "        self.calculate_effiency(test_data_list)\n",
    "        self.epochs.append(e)\n",
    "        \n",
    "  def query(self, inputs):\n",
    "    hidden_inputs = np.expand_dims(np.dot(self.wih, inputs), axis=1) + self.bih\n",
    "    hidden_outputs = self.activation_function(hidden_inputs)\n",
    "    final_inputs = np.dot(self.who, hidden_outputs) + self.bho\n",
    "    final_outputs = self.activation_function(final_inputs)\n",
    "    return final_outputs\n",
    "    pass\n"
   ]
  },
  {
   "cell_type": "code",
   "execution_count": 3,
   "metadata": {},
   "outputs": [],
   "source": [
    "class NeuralNetwork:\n",
    "#     инициализация сети\n",
    "    def __init__(self, input_nodes, hidden_nodes, output_nodes, learning_rate):\n",
    "        self.inodes = input_nodes\n",
    "        self.hnodes = hidden_nodes\n",
    "        self.onodes = output_nodes\n",
    "        \n",
    "        self.activation_func = lambda x:scipy.special.expit(x)\n",
    "        self.wih = np.random.normal(0.0, pow(self.inodes, -0.5),\n",
    "                                   (self.hnodes, self.inodes))\n",
    "        self.who = np.random.normal(0.0, pow(self.hnodes, -0.5),\n",
    "                                   (self.onodes, self.hnodes))\n",
    "        \n",
    "        self.lr = learning_rate\n",
    "        \n",
    "        self.epochs = []\n",
    "        self.efficiency = []\n",
    "        \n",
    "        self.who_remarks = []\n",
    "        self.wih_remarks = []\n",
    "        self.i = 0\n",
    "\n",
    "#     тренировка\n",
    "    def train_one_dataset(self, inputs_list, targets_list):\n",
    "        inputs = np.array(inputs_list, ndmin=2).T\n",
    "        targets = np.array(targets_list, ndmin=2).T\n",
    "        \n",
    "        hidden_inputs = np.dot(self.wih, inputs)\n",
    "        hidden_outputs = self.activation_func(hidden_inputs)\n",
    "        \n",
    "        final_inputs = np.dot(self.who, hidden_outputs)\n",
    "        final_outputs = self.activation_func(final_inputs)\n",
    "        \n",
    "        output_errors = targets - final_outputs\n",
    "        hidden_errors = np.dot(self.who.T, output_errors)\n",
    "        \n",
    "        self.who += self.lr * np.dot((output_errors * final_outputs *\n",
    "                (1.0 - final_outputs)), np.transpose(hidden_outputs))\n",
    "        \n",
    "        self.wih += self.lr * np.dot((hidden_errors * hidden_outputs *\n",
    "                (1.0 - hidden_outputs)), np.transpose(inputs))\n",
    "            \n",
    "    \n",
    "    \n",
    "    def train(self, training_data_list, test_data_list, epochs):\n",
    "        self.epochs = []\n",
    "        self.efficiency = []\n",
    "        for e in range(epochs):\n",
    "            for train_record in training_data_list:\n",
    "                all_values = train_record.split(',')\n",
    "                inputs = (np.asfarray(all_values[1:]) / 255 * 0.99) + 0.01\n",
    "                targets = np.zeros(self.onodes)\n",
    "                targets[int(all_values[0])] = 0.99\n",
    "                self.train_one_dataset(inputs, targets)\n",
    "            \n",
    "            self.calc_efficiency(test_data_list)\n",
    "            self.epochs.append(e)\n",
    "    \n",
    "    \n",
    "    def calc_efficiency(self, test_data_list):\n",
    "        scorecard = []\n",
    "        for test_record in test_data_list:\n",
    "            all_values = test_record.split(',')\n",
    "            correct_label = int(all_values[0])\n",
    "            inputs = (np.asfarray(all_values[1:])/ 255 * 0.99) + 0.01\n",
    "            outputs = self.query(inputs)\n",
    "            self_label = np.argmax(outputs)\n",
    "            if correct_label == self_label:\n",
    "                scorecard.append(1)\n",
    "            else:\n",
    "                scorecard.append(0)\n",
    "                \n",
    "        scorecard_array = np.array(scorecard)\n",
    "        self.efficiency.append(scorecard_array.sum() / scorecard_array.size)\n",
    "            \n",
    "#     опрос сети\n",
    "    def query(self, inputs_list):\n",
    "        inputs = np.array(inputs_list, ndmin=2).T\n",
    "        \n",
    "        hidden_inputs = np.dot(self.wih, inputs)\n",
    "        hidden_outputs = self.activation_func(hidden_inputs)\n",
    "        final_inputs = np.dot(self.who, hidden_outputs)\n",
    "        final_outputs = self.activation_func(final_inputs)\n",
    "        \n",
    "        return final_outputs"
   ]
  },
  {
   "cell_type": "code",
   "execution_count": 4,
   "metadata": {},
   "outputs": [],
   "source": [
    "training_data_file = open(\n",
    "    'mnist_train.csv',\n",
    "     'r')\n",
    "training_data_list = training_data_file.readlines()[:1_000]\n",
    "training_data_file.close()\n",
    "\n",
    "test_data_file = open(\n",
    "    'mnist_test.csv',\n",
    "     'r')\n",
    "test_data_list = test_data_file.readlines()\n",
    "test_data_file.close()"
   ]
  },
  {
   "cell_type": "code",
   "execution_count": 5,
   "metadata": {
    "executionInfo": {
     "elapsed": 368,
     "status": "ok",
     "timestamp": 1674497205380,
     "user": {
      "displayName": "Pavel Astukov",
      "userId": "16078133139068610731"
     },
     "user_tz": -240
    },
    "id": "RQcbhIPtpsWa"
   },
   "outputs": [
    {
     "name": "stdout",
     "output_type": "stream",
     "text": [
      "(100, 1)\n"
     ]
    }
   ],
   "source": [
    "input_nodes = 784\n",
    "hidden_nodes = 100\n",
    "output_nodes = 10\n",
    "epoch_count = 10\n",
    "learning_rate = 0.01\n",
    "\n",
    "nnwb = NeuralNetworkWithBias(input_nodes, hidden_nodes, output_nodes, learning_rate)\n",
    "simple_nn = NeuralNetwork(input_nodes, hidden_nodes, output_nodes, learning_rate)"
   ]
  },
  {
   "cell_type": "code",
   "execution_count": 6,
   "metadata": {},
   "outputs": [
    {
     "name": "stdout",
     "output_type": "stream",
     "text": [
      "max accuracy is 0.8426 at 9 epoch\n"
     ]
    },
    {
     "data": {
      "image/png": "[encoded data removed]",
      "text/plain": [
       "<Figure size 640x480 with 1 Axes>"
      ]
     },
     "metadata": {},
     "output_type": "display_data"
    }
   ],
   "source": [
    "nnwb.train(training_data_list, test_data_list, epoch_count)\n",
    "plt.title('with bias')\n",
    "plt.ylabel('efficiency/accuracy')\n",
    "plt.xlabel('epochs')\n",
    "plt.plot(nnwb.epochs, nnwb.efficiency)\n",
    "maxima = np.argmax(np.array(nnwb.efficiency))\n",
    "print(f'max accuracy is {nnwb.efficiency[maxima]} at {maxima} epoch' )"
   ]
  },
  {
   "cell_type": "code",
   "execution_count": 7,
   "metadata": {
    "executionInfo": {
     "elapsed": 124423,
     "status": "ok",
     "timestamp": 1674497335330,
     "user": {
      "displayName": "Pavel Astukov",
      "userId": "16078133139068610731"
     },
     "user_tz": -240
    },
    "id": "ZPY8n5m6hNGn"
   },
   "outputs": [
    {
     "name": "stdout",
     "output_type": "stream",
     "text": [
      "max accuracy is 0.8137 at 9 epoch\n"
     ]
    },
    {
     "data": {
      "image/png": "[encoded data removed]",
      "text/plain": [
       "<Figure size 640x480 with 1 Axes>"
      ]
     },
     "metadata": {},
     "output_type": "display_data"
    }
   ],
   "source": [
    "simple_nn.train(training_data_list, test_data_list, epoch_count)\n",
    "plt.title('without bias')\n",
    "plt.ylabel('efficiency/accuracy')\n",
    "plt.xlabel('epochs')\n",
    "plt.plot(simple_nn.epochs, simple_nn.efficiency)\n",
    "maxima = np.argmax(np.array(simple_nn.efficiency))\n",
    "print(f'max accuracy is {simple_nn.efficiency[maxima]} at {maxima} epoch' )"
   ]
  },
  {
   "cell_type": "code",
   "execution_count": 8,
   "metadata": {
    "colab": {
     "base_uri": "https://localhost:8080/"
    },
    "executionInfo": {
     "elapsed": 411,
     "status": "ok",
     "timestamp": 1674497386953,
     "user": {
      "displayName": "Pavel Astukov",
      "userId": "16078133139068610731"
     },
     "user_tz": -240
    },
    "id": "lbq2n-2_vnER",
    "outputId": "8c6c2167-0023-4865-cc10-d65aa947916b"
   },
   "outputs": [
    {
     "name": "stdout",
     "output_type": "stream",
     "text": [
      "7 true marker\n",
      "7 response NN\n",
      "**********\n",
      "2 true marker\n",
      "6 response NN\n",
      "**********\n",
      "1 true marker\n",
      "1 response NN\n",
      "**********\n",
      "0 true marker\n",
      "0 response NN\n",
      "**********\n",
      "4 true marker\n",
      "4 response NN\n",
      "**********\n",
      "1 true marker\n",
      "1 response NN\n",
      "**********\n",
      "4 true marker\n",
      "4 response NN\n",
      "**********\n",
      "9 true marker\n",
      "9 response NN\n",
      "**********\n",
      "5 true marker\n",
      "2 response NN\n",
      "**********\n",
      "9 true marker\n",
      "7 response NN\n",
      "**********\n",
      "[1, 0, 1, 1, 1, 1, 1, 1, 0, 0]\n",
      "effieciency =  0.7\n"
     ]
    }
   ],
   "source": [
    "test_data_file = open('mnist_test_10.csv', 'r')\n",
    "test_data_list = test_data_file.readlines()\n",
    "test_data_file.close()\n",
    "\n",
    "scorecard = []\n",
    "\n",
    "for record in test_data_list:\n",
    "    all_values = record.split(',')\n",
    "    correct_label = int(all_values[0])\n",
    "    print(correct_label, 'true marker')\n",
    "    \n",
    "    inputs = (np.asfarray(all_values[1:]) / 255.0 ) \n",
    "    outputs = nnwb.query(inputs)\n",
    "    label = np.argmax(outputs)\n",
    "    print(label, 'response NN')\n",
    "    if label == correct_label:\n",
    "        scorecard.append(1)\n",
    "    else:\n",
    "        scorecard.append(0)\n",
    "    print('**********')\n",
    "\n",
    "print(scorecard)\n",
    "\n",
    "scorecard_array = np.asarray(scorecard)\n",
    "print('effieciency = ', scorecard_array.sum()/ scorecard_array.size)"
   ]
  },
  {
   "cell_type": "code",
   "execution_count": null,
   "metadata": {},
   "outputs": [],
   "source": []
  }
 ],
 "metadata": {
  "colab": {
   "authorship_tag": "ABX9TyO5seweVF+W1BtYSkcM34Ip",
   "mount_file_id": "1grQnq9Gqz6PEIVhM_WUy4QCZ-QfH5eJ5",
   "provenance": []
  },
  "kernelspec": {
   "display_name": "Python 3 (ipykernel)",
   "language": "python",
   "name": "python3"
  },
  "language_info": {
   "codemirror_mode": {
    "name": "ipython",
    "version": 3
   },
   "file_extension": ".py",
   "mimetype": "text/x-python",
   "name": "python",
   "nbconvert_exporter": "python",
   "pygments_lexer": "ipython3",
   "version": "3.9.13"
  }
 },
 "nbformat": 4,
 "nbformat_minor": 1
}
