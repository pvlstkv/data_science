{
 "cells": [
  {
   "cell_type": "code",
   "execution_count": 47,
   "id": "0679fce3",
   "metadata": {},
   "outputs": [],
   "source": [
    "import numpy as np\n",
    "import matplotlib.pyplot as plt\n",
    "import seaborn as sns\n",
    "import scipy.special\n",
    "import math"
   ]
  },
  {
   "cell_type": "code",
   "execution_count": 48,
   "id": "15a3f662",
   "metadata": {},
   "outputs": [],
   "source": [
    "class Layer:\n",
    "    def __init__(self, input_nodes_count, output_nodes_count, activation_func):\n",
    "        self.inc = input_nodes_count\n",
    "        self.onc = output_nodes_count\n",
    "        self.act_func = activation_func\n",
    "        self.weights = np.random.normal(0.0, pow(input_nodes_count, -0.5), (output_nodes_count, input_nodes_count))\n",
    "    \n",
    "    \n",
    "        "
   ]
  },
  {
   "cell_type": "code",
   "execution_count": 49,
   "id": "fb46eb93",
   "metadata": {},
   "outputs": [
    {
     "ename": "IndentationError",
     "evalue": "expected an indented block (2560799779.py, line 16)",
     "output_type": "error",
     "traceback": [
      "\u001b[1;36m  File \u001b[1;32m\"C:\\Users\\60903\\AppData\\Local\\Temp\\ipykernel_17640\\2560799779.py\"\u001b[1;36m, line \u001b[1;32m16\u001b[0m\n\u001b[1;33m    \u001b[0m\n\u001b[1;37m    ^\u001b[0m\n\u001b[1;31mIndentationError\u001b[0m\u001b[1;31m:\u001b[0m expected an indented block\n"
     ]
    }
   ],
   "source": [
    "class Transition:\n",
    "    def __init__(self, input_nodes_count, output_nodes_count, activation_func):\n",
    "        self.inc = input_nodes_count\n",
    "        self.onc = output_nodes_count\n",
    "        self.act_func = activation_func\n",
    "        self.weights = np.random.normal(0.0, pow(input_nodes_count, -0.5), (output_nodes_count, input_nodes_count))\n",
    "        self.input_nodes = np.random.rand(self.inc)\n",
    "        self.output_nodes = np.random.rand(self.onc)\n",
    "        self.bias = np.random.rand()\n",
    "        self.errors = self.output_nodes * 0\n",
    "        \n",
    "    def forward_propagate(self):\n",
    "        self.output_nodes = self.act_func(np.dot(self.weights, self.input_nodes) + self.bias)\n",
    "        \n",
    "    def back_propagate(self):\n",
    "        "
   ]
  },
  {
   "cell_type": "code",
   "execution_count": 50,
   "id": "d92ddc46",
   "metadata": {},
   "outputs": [],
   "source": [
    "class NeuralNetwork:\n",
    "    def __init__(self, layers):\n",
    "        self.layers = layers\n",
    "            \n",
    "    def fit(self, X_train,y_train, X_Test, y_test):\n",
    "        pass\n"
   ]
  },
  {
   "cell_type": "code",
   "execution_count": 51,
   "id": "3170bd1c",
   "metadata": {},
   "outputs": [
    {
     "data": {
      "text/plain": [
       "array([0., 0., 0., 0.])"
      ]
     },
     "execution_count": 51,
     "metadata": {},
     "output_type": "execute_result"
    }
   ],
   "source": [
    "np.random.rand(4) * 0"
   ]
  },
  {
   "cell_type": "code",
   "execution_count": 52,
   "id": "3eda8c81",
   "metadata": {},
   "outputs": [],
   "source": [
    "class NN:\n",
    "    def __init__(self, input_nodes):\n",
    "        self.input_nodes = input_nodes\n",
    "        self.cur_inp_nodes = input_nodes\n",
    "        self.activation_funcs = []\n",
    "        self.weights = []\n",
    "        self.biases = []\n",
    "        self.outputs = []\n",
    "        \n",
    "    def add_layer(self, nodes_count, activation_func):\n",
    "        self.activation_funcs.append(activation_func)\n",
    "        self.weights.append(np.random.rand(self.cur_inp_nodes, nodes_count))\n",
    "        self.biases.append(np.random.rand())\n",
    "        self.cur_inp_nodes = nodes_count\n",
    "        \n",
    "    def forward(self, X_vector, y_scalar):\n",
    "        for i in range(len(activation_funcs)):\n",
    "            self.outputs.append(np.dot(self.weights[i], ))\n",
    "            "
   ]
  },
  {
   "cell_type": "code",
   "execution_count": 53,
   "id": "0d269b2a",
   "metadata": {},
   "outputs": [
    {
     "ename": "SyntaxError",
     "evalue": "invalid syntax (3635135876.py, line 2)",
     "output_type": "error",
     "traceback": [
      "\u001b[1;36m  File \u001b[1;32m\"C:\\Users\\60903\\AppData\\Local\\Temp\\ipykernel_17640\\3635135876.py\"\u001b[1;36m, line \u001b[1;32m2\u001b[0m\n\u001b[1;33m    def r(self)\u001b[0m\n\u001b[1;37m               ^\u001b[0m\n\u001b[1;31mSyntaxError\u001b[0m\u001b[1;31m:\u001b[0m invalid syntax\n"
     ]
    }
   ],
   "source": [
    "class A:\n",
    "    def r(self)"
   ]
  },
  {
   "cell_type": "code",
   "execution_count": null,
   "id": "df423691",
   "metadata": {},
   "outputs": [],
   "source": [
    "\n",
    "        "
   ]
  },
  {
   "cell_type": "code",
   "execution_count": 54,
   "id": "ee8a42e3",
   "metadata": {},
   "outputs": [],
   "source": [
    "class Activation_Function:\n",
    "    def __init__(self, func, deriv):\n",
    "        self.function = func\n",
    "        self.derivative = deriv\n",
    "        \n",
    "        \n",
    "class Layer:\n",
    "    def __init__(self, nodes, act_func):\n",
    "        self.nodes = nodes\n",
    "        self.act_func = act_func\n",
    "        self.error = None\n",
    "        self.weight = None\n",
    "        self.output = None\n",
    "        self.bias = None\n",
    "        \n",
    "        \n",
    "class NN:\n",
    "    def __init__(self, input_nodes, l_r=0.01):\n",
    "        self.input_nodes = input_nodes\n",
    "        self.layers = []\n",
    "        self.learning_rate = l_r\n",
    "        \n",
    "        \n",
    "    def add_layer(self, layer):\n",
    "        row, column = self.input_nodes, layer.nodes\n",
    "        self.input_nodes = layer.nodes\n",
    "        weight = np.random.normal(0.0, pow(column, -0.5), (row, column))                \n",
    "        bias = np.random.rand()\n",
    "        layer.weight = weight\n",
    "        self.layers.append(layer)\n",
    "        \n",
    "    def forward_propagation(self, features):        \n",
    "        self.input = features\n",
    "        for l in self.layers:\n",
    "            l.output = l.act_func(np.dot(l.weight, features) + l.bias)\n",
    "            features = l.output\n",
    "        return features\n",
    "    \n",
    "    def backward_propagation(self, error):\n",
    "        self.layers[-1].error = error\n",
    "        for l in reversed(self.layers[:-1]):\n",
    "            l.error = np.dot(l.weight.T, error)\n",
    "            error = l.error\n",
    "            \n",
    "        w_remarks = []\n",
    "        b_remarks = []\n",
    "        \n",
    "        for i in range(len(self.layers - 1, 1, -1)):\n",
    "            cur_l = self.layers[i]\n",
    "            prev_l = self.layers[i-1]\n",
    "            \n",
    "            r = self.learning_rate * np.dot(\n",
    "                (cur_l.error * cur_l.act_func.derivative(cur_l.output)), \n",
    "                prev_l.output\n",
    "            )\n",
    "            cur_l.weight += r\n",
    "            b = self.learning_rate * cur_l.error * cur_l.act_func.derivative(cur_l.output)\n",
    "            cur_l.bias += b\n",
    "        \n",
    "        \n",
    "        cur_l = self.layers[0]\n",
    "        \n",
    "        r = self.learning_rate * np.dot(\n",
    "                (cur_l.error * cur_l.act_func.derivative(cur_l.output)), \n",
    "                self.input\n",
    "            )\n",
    "        cur_l.weight += r            \n",
    "        b = self.learning_rate * cur_l.error * cur_l.act_func.derivative(cur_l.output)\n",
    "        cur_l.bias += b \n",
    "        \n",
    "        \n",
    "    def fit(self, Xs, ys):\n",
    "        last_layer = self.layers[-1]\n",
    "        output_nodes = last_layer.nodes\n",
    "        for x_, y in zip(Xs, ys):\n",
    "            vectored_target = np.zeros(output_nodes)\n",
    "            vectored_target[ys] = 1\n",
    "            output = forward_propagation(x_)\n",
    "            error = vectored_target - output\n",
    "            backward_propagation(error)\n",
    "        \n",
    "    def predict(self, x_):\n",
    "        return forward_propagation(x_)\n",
    "        "
   ]
  },
  {
   "cell_type": "code",
   "execution_count": 55,
   "id": "96785945",
   "metadata": {},
   "outputs": [],
   "source": [
    "class NN_LayerAdding:\n",
    "    def __init__(self, input_nodes, \n",
    "#                  hidden_nodes, hidden_layers, \n",
    "#                  output_nodes,  \n",
    "                 learning_rate, dx=0.001):\n",
    "        self.inodes = input_nodes\n",
    "#         self.hnodes = hidden_nodes\n",
    "        self.onodes = input_nodes\n",
    "        self.lr = learning_rate\n",
    "        self.node_params = [input_nodes]\n",
    "        self.dx = dx\n",
    "        \n",
    "#         for i in range(hidden_layers):\n",
    "#             self.node_params.append(hidden_nodes)\n",
    "            \n",
    "#         self.node_params.append(output_nodes)\n",
    "                \n",
    "#         self.transition_count = hidden_layers + 1\n",
    "        self.transition_count = 0\n",
    "        self.weights = []\n",
    "        self.biases = []\n",
    "#         for i in range(self.transition_count):\n",
    "#             row, column = self.node_params[i + 1], self.node_params[i]\n",
    "#             self.weights.append(\n",
    "#                 np.random.normal(0.0, pow(column, -0.5), (row, column))\n",
    "#             ) \n",
    "#             self.biases.append(\n",
    "#                 np.random.normal(\n",
    "#                     0.0 - pow(self.hnodes, -0.5), 0.0 + pow(self.hnodes, -0.5),\n",
    "# #                     0.0, pow(row, -0.5),\n",
    "#                     (row, 1))\n",
    "#             )\n",
    "#         self.activation_func = lambda x:scipy.special.expit(x.astype('float'))   \n",
    "        self.act_funcs = []\n",
    "        self.epochs = []\n",
    "        self.efficiency = []\n",
    "        self.efficiency_on_train = []\n",
    "        \n",
    "        \n",
    "        \n",
    "    def add_layer(self, nodes, act_func):\n",
    "        self.act_funcs.append(act_func)\n",
    "        row, column = nodes, self.inodes\n",
    "        self.weights.append(\n",
    "             np.random.normal(0.0, pow(column, -0.5), (row, column))\n",
    "        )\n",
    "        self.biases.append(\n",
    "                np.random.normal(\n",
    "                    0.0 - pow(nodes, -0.5), 0.0 + pow(nodes, -0.5),\n",
    "#                     0.0, pow(row, -0.5),\n",
    "                    (row, 1)\n",
    "                )\n",
    "        )\n",
    "        self.transition_count = self.transition_count + 1\n",
    "        self.inodes = nodes\n",
    "        self.onodes = nodes\n",
    "        self.outputs = [None] * (self.transition_count + 1)\n",
    "        self.errors = [None] * (self.transition_count + 1)\n",
    "        \n",
    "        \n",
    "    def train_one_data_set(self, inputs_list, targets_list ):\n",
    "        inputs = np.array(inputs_list, ndmin=2).T\n",
    "        targets = np.array(targets_list, ndmin=2).T\n",
    "       \n",
    "        remarks = []\n",
    "        biases = []\n",
    "        \n",
    "        self.outputs[0] = inputs # zero (pseudo) outputs is an input in NN\n",
    "        for i in range(self.transition_count):\n",
    "            act_func = self.act_funcs[i]\n",
    "            self.outputs[i + 1] = act_func(\n",
    "                np.dot(self.weights[i], self.outputs[i]) + self.biases[i]\n",
    "            )\n",
    "    \n",
    "        self.errors[self.transition_count] = targets - self.outputs[self.transition_count]\n",
    "        for i in reversed(range(self.transition_count)):\n",
    "            self.errors[i] =  np.dot(self.weights[i].T, self.errors[i + 1])\n",
    "        \n",
    "        \n",
    "        for i in reversed(range(self.transition_count)):\n",
    "            act_func = self.act_funcs[i]\n",
    "            remarks.insert(0, self.lr\n",
    "                           * np.dot\n",
    "                           (\n",
    "                (self.errors[i + 1] * \n",
    "                 self.derivitive(act_func, self.outputs[i + 1])\n",
    "#                  self.outputs[i + 1] * (1.0 - self.outputs[i + 1])\n",
    "                ),\n",
    "                np.transpose(self.outputs[i])\n",
    "                           )\n",
    "            )\n",
    "        \n",
    "        for i in reversed(range(self.transition_count)):\n",
    "            act_func = self.act_funcs[i]\n",
    "            biases.insert(0, self.lr * self.errors[i + 1] \n",
    "                          * self.derivitive(act_func, self.outputs[i + 1])\n",
    "#                         * self.outputs[i + 1] * (1 - self.outputs[i + 1])\n",
    "                       )\n",
    "        return np.array(remarks, dtype=object), np.array(biases, dtype=object)\n",
    "                    \n",
    "                \n",
    "    def train_one_batch(self, batch, vectored_targets):\n",
    "        weight_remarks, bias_remarks = [], [] # каждый элемент - правка по каждому train set\n",
    "        for i, one_train_dataset in enumerate(batch):\n",
    "            one_data_set_remarks, one_data_set_bias_remarks = self.train_one_data_set(one_train_dataset, vectored_targets[i])\n",
    "            weight_remarks.append(one_data_set_remarks)\n",
    "            bias_remarks.append(one_data_set_bias_remarks)\n",
    "            \n",
    "        # суммирование по каждому обучающему набору внутри батча\n",
    "        summed_weight_remarks = np.array(weight_remarks, dtype=object, ndmin=2).sum(axis=0) # like a tensor (batch_size, transition_count, (n,m)-error correction matrix)\n",
    "        summed_bias_remarks = np.array(bias_remarks, dtype=object, ndmin=2).sum(axis=0)        \n",
    "        \n",
    "        for i, (correct_weights, correct_biases) in enumerate(zip(summed_weight_remarks, summed_bias_remarks)):\n",
    "            self.weights[i] = self.weights[i] + correct_weights\n",
    "            self.biases[i] = self.biases[i] + correct_biases\n",
    "        \n",
    "    def train(self, X, y, test_X, test_y, epochs, batch_size):\n",
    "        self.epochs = []\n",
    "        self.efficiency = []\n",
    "        self.efficiency_on_train = []\n",
    "        for e in range(epochs):\n",
    "            batch_count = int(math.ceil(len(y) / batch_size))\n",
    "            for i in range(batch_count):\n",
    "                batch = X[i * batch_size : (i + 1) * batch_size]\n",
    "                targets = y[i * batch_size : (i + 1) * batch_size]                \n",
    "                vectored_targets = [np.zeros(self.onodes) + 0.01 for i in targets]\n",
    "                for target_value, zero_vector in zip(targets, vectored_targets):\n",
    "                    zero_vector[target_value] = 0.99 # max value\n",
    "                self.train_one_batch(batch, vectored_targets)\n",
    "    \n",
    "            self.efficiency.append(self.calc_efficiency(test_X, test_y))\n",
    "            self.efficiency_on_train.append(self.calc_efficiency(X, y))\n",
    "            self.epochs.append(e)\n",
    "                        \n",
    "    def calc_efficiency(self, test_X, test_y):\n",
    "        scorecard = []\n",
    "        for (inputs, outputs) in zip(test_X, test_y):\n",
    "            correct_label = outputs\n",
    "            result = self.query(inputs)\n",
    "            self_label = np.argmax(result)\n",
    "            if correct_label == self_label:\n",
    "                scorecard.append(1)\n",
    "            else:\n",
    "                scorecard.append(0)\n",
    "        \n",
    "        scorecard_array = np.array(scorecard)\n",
    "        return scorecard_array.sum() / scorecard_array.size\n",
    "    \n",
    "    def query(self, inputs):        \n",
    "        outputs = np.array(inputs).reshape((len(inputs), 1))\n",
    "        for i in range(self.transition_count):\n",
    "            inputs = outputs\n",
    "            act_func = self.act_funcs[i]\n",
    "            outputs = act_func(\n",
    "                np.dot(self.weights[i], inputs) \n",
    "                + self.biases[i]\n",
    "            )            \n",
    "        return outputs\n",
    "    \n",
    "    def proba(self, inputs):\n",
    "        res = self.query(inputs)       \n",
    "        return res * 1.0 / res.sum()\n",
    "    \n",
    "    def derivitive(self, act_func, x):\n",
    "        return (act_func(x + self.dx) - act_func(x - self.dx)) / (2 * self.dx)\n",
    "        \n"
   ]
  },
  {
   "cell_type": "code",
   "execution_count": 56,
   "id": "5fda542b",
   "metadata": {},
   "outputs": [],
   "source": [
    "def prepare_data(data):\n",
    "    X, y = [], []\n",
    "    for row in data:\n",
    "        row = row.split(',')\n",
    "        y.append(int(row[0]))\n",
    "        inputs = row[1:]\n",
    "        inputs = [int(i) for i in inputs]\n",
    "        inputs = [(value / 255 * 1) + 0.00 for value in inputs]\n",
    "        X.append(inputs)\n",
    "    return X, y"
   ]
  },
  {
   "cell_type": "code",
   "execution_count": 57,
   "id": "2511b517",
   "metadata": {},
   "outputs": [],
   "source": [
    "training_data_file = open('mnist_train.csv', 'r')\n",
    "training_data_list = training_data_file.readlines()\n",
    "training_data_list = training_data_list[:1_000]\n",
    "training_data_file.close()\n",
    "X, y = prepare_data(training_data_list)\n",
    "\n",
    "test_data_file = open('mnist_test.csv', 'r')\n",
    "test_data_list = test_data_file.readlines()\n",
    "test_data_file.close()\n",
    "X_test, y_test = prepare_data(test_data_list)"
   ]
  },
  {
   "cell_type": "code",
   "execution_count": 99,
   "id": "07db1c03",
   "metadata": {},
   "outputs": [],
   "source": [
    "input_nodes = 784\n",
    "hidden_nodes = 100\n",
    "output_nodes = 10\n",
    "learning_rate = 0.15\n",
    "nn = NN_LayerAdding(input_nodes, learning_rate, 0.001)\n",
    "nn.add_layer(hidden_nodes, lambda x:scipy.special.expit(x.astype('float'))) \n",
    "nn.add_layer(output_nodes, lambda x:scipy.special.expit(x.astype('float')))             \n"
   ]
  },
  {
   "cell_type": "code",
   "execution_count": 96,
   "id": "5fce9e5e",
   "metadata": {},
   "outputs": [],
   "source": [
    "nn.train(X, y, X_test, y_test, 15, 5)"
   ]
  },
  {
   "cell_type": "code",
   "execution_count": 97,
   "id": "c9565c3c",
   "metadata": {},
   "outputs": [
    {
     "data": {
      "text/plain": [
       "[<matplotlib.lines.Line2D at 0x22001766340>]"
      ]
     },
     "execution_count": 97,
     "metadata": {},
     "output_type": "execute_result"
    },
    {
     "data": {
      "image/png": "[encoded data removed]",
      "text/plain": [
       "<Figure size 640x480 with 1 Axes>"
      ]
     },
     "metadata": {},
     "output_type": "display_data"
    }
   ],
   "source": [
    "plt.plot(nn.epochs, nn.efficiency)"
   ]
  },
  {
   "cell_type": "code",
   "execution_count": 398,
   "id": "5961ff1a",
   "metadata": {},
   "outputs": [],
   "source": [
    "class Activation_Function:\n",
    "    def __init__(self, func, deriv):\n",
    "        self.function = func\n",
    "        self.derivative = deriv\n",
    "        l = func(-np.inf)\n",
    "        self.min = l if l is not -np.inf else -1_000_000\n",
    "        r = func(np.inf)\n",
    "        self.max = r if r is not np.inf else 1_000_000\n",
    "        \n",
    "        \n",
    "        \n",
    "    def __init__(self, func, deriv, _min, _max):\n",
    "        self.function = func\n",
    "        self.derivative = deriv\n",
    "        self.min = _min\n",
    "        self.max = _max\n",
    "        \n",
    "        \n",
    "class Layer:\n",
    "    def __init__(self, nodes, act_func):\n",
    "        self.nodes = nodes\n",
    "        self.act_func = act_func\n",
    "        self.error = None\n",
    "        self.weight = None\n",
    "        self.output = None\n",
    "        self.bias = None\n",
    "        \n",
    "        \n",
    "class NN:\n",
    "    def __init__(self, input_nodes, l_r=0.01):\n",
    "        self.input_nodes = input_nodes\n",
    "        self.layers = []\n",
    "        self.learning_rate = l_r\n",
    "        \n",
    "        \n",
    "    def add_layer(self, layer):\n",
    "        row, column = layer.nodes, self.input_nodes\n",
    "        self.input_nodes = layer.nodes\n",
    "        weight = np.random.normal(0.0, \n",
    "                                  pow(column, -0.5),                                  \n",
    "                                  (row, column))                \n",
    "#         bias = np.random.rand() \n",
    "        bias = np.random.normal()\n",
    "        layer.bias = bias\n",
    "        layer.weight = weight\n",
    "        self.layers.append(layer)\n",
    "        \n",
    "    def forward_propagation(self, features):        \n",
    "        self.input = features\n",
    "        for l in self.layers:\n",
    "            l.output = l.act_func.function(np.dot(l.weight, features) + l.bias)\n",
    "            features = l.output\n",
    "        return features\n",
    "    \n",
    "    def backward_propagation(self, error):\n",
    "#         self.layers[-1].error = error\n",
    "#         print(\"last layer weight is \", self.layers[-1].weight.shape)\n",
    "#         print(\"last layer error is \", self.layers[-1].error.shape)\n",
    "#         print(\"layers count is \", len(self.layers))\n",
    "        for l in reversed(self.layers):\n",
    "            l.error = error\n",
    "#             print('weight is ', l.weight.T.shape)\n",
    "#             print('error is ', error.shape)\n",
    "            error = np.dot(l.weight.T, error)\n",
    "#             error = l.error\n",
    "       \n",
    "        w_remarks = []\n",
    "        b_remarks = []\n",
    "        \n",
    "#         print(\"----------------------------------------\")\n",
    "        \n",
    "        for i in range(len(self.layers) - 1, 0, -1):\n",
    "#             print(\"i is \", i)\n",
    "            cur_l = self.layers[i]\n",
    "            prev_l = self.layers[i-1]\n",
    "            \n",
    "#             print(\"cur_l.error is \", cur_l.error.shape)\n",
    "#             print(\"cur_l.output is \", cur_l.output.shape)\n",
    "#             print(\"cur_l.weight\", cur_l.weight.shape)\n",
    "#             print(\"prev_l.output is \", prev_l.output.shape)\n",
    "            \n",
    "#             print(\"shape of act func\",  cur_l.act_func.derivative(cur_l.output).shape)\n",
    "#             print(\"prev_l.ouput shape is \", prev_l.output.T.shape)\n",
    "            r = self.learning_rate * np.dot(\n",
    "                np.array((cur_l.error * cur_l.act_func.derivative(cur_l.output)), ndmin=2).T, \n",
    "                np.array(prev_l.output, ndmin=2)\n",
    "            )\n",
    "            cur_l.weight += r\n",
    "            b = self.learning_rate * cur_l.error * cur_l.act_func.derivative(cur_l.output)\n",
    "            cur_l.bias += b\n",
    "        \n",
    "        \n",
    "        cur_l = self.layers[0]\n",
    "#         print(\"cur_l.error is \", cur_l.error.shape)\n",
    "#         print(\"cur_l.output\", cur_l.output.shape)\n",
    "        r = self.learning_rate * np.dot(\n",
    "               np.array( (cur_l.error * cur_l.act_func.derivative(cur_l.output)), ndmin=2).T, \n",
    "               np.array( self.input, ndmin=2)\n",
    "            )\n",
    "        cur_l.weight += r            \n",
    "        b = self.learning_rate * cur_l.error * cur_l.act_func.derivative(cur_l.output)\n",
    "        cur_l.bias += b \n",
    "        \n",
    "        \n",
    "    def fit(self, Xs, ys):\n",
    "        last_layer = self.layers[-1]\n",
    "        output_nodes = last_layer.nodes\n",
    "        for x_, y in zip(Xs, ys):\n",
    "            vectored_target = np.zeros(output_nodes) - last_layer.act_func.min\n",
    "            vectored_target[y] = last_layer.act_func.max\n",
    "            output = self.forward_propagation(x_)\n",
    "            error = vectored_target - output\n",
    "            self.backward_propagation(error)\n",
    "            \n",
    "    def fit_epochs(self, Xs, ys, X_test, y_test, epoch_count):\n",
    "        self.epochs = []\n",
    "        self.efficiency = []\n",
    "        self.efficiency_on_train = []\n",
    "        \n",
    "        for e in range(epoch_count):\n",
    "            self.fit(Xs, ys)\n",
    "            self.efficiency.append(self.calc_efficiency(X_test, y_test))\n",
    "            self.epochs.append(e)\n",
    "        \n",
    "        \n",
    "        \n",
    "    def predict(self, x_):\n",
    "        return self.forward_propagation(x_)\n",
    "    \n",
    "    \n",
    "    def calc_efficiency(self, test_X, test_y):\n",
    "        scorecard = []\n",
    "        for (inputs, outputs) in zip(test_X, test_y):\n",
    "            correct_label = outputs\n",
    "            result = self.predict(inputs)\n",
    "            self_label = np.argmax(result)\n",
    "            if correct_label == self_label:\n",
    "                scorecard.append(1)\n",
    "            else:\n",
    "                scorecard.append(0)\n",
    "        \n",
    "        scorecard_array = np.array(scorecard)\n",
    "        return scorecard_array.sum() / scorecard_array.size\n",
    "        "
   ]
  },
  {
   "cell_type": "code",
   "execution_count": 383,
   "id": "f9b27512",
   "metadata": {},
   "outputs": [],
   "source": [
    "input_nodes = 784\n",
    "hidden_nodes = 100\n",
    "output_nodes = 10\n",
    "learning_rate = 0.05\n",
    "nn = NN(input_nodes, learning_rate)\n",
    "\n",
    "sigmoid = Activation_Function(lambda x:scipy.special.expit(x), \n",
    "                                lambda x:(\n",
    "                                        scipy.special.expit(x)\n",
    "                                        *( 1- scipy.special.expit(x))\n",
    "                                    ),\n",
    "                              0, 1\n",
    "                             )\n",
    "\n",
    "\n",
    "nn.add_layer(Layer(hidden_nodes, sigmoid))\n",
    "nn.add_layer(Layer(output_nodes, sigmoid))\n",
    "\n",
    "nn.fit_epochs(X, y, X_test, y_test, 15)\n"
   ]
  },
  {
   "cell_type": "code",
   "execution_count": 362,
   "id": "c524ab84",
   "metadata": {},
   "outputs": [
    {
     "data": {
      "text/plain": [
       "[<matplotlib.lines.Line2D at 0x1dae168c490>]"
      ]
     },
     "execution_count": 362,
     "metadata": {},
     "output_type": "execute_result"
    },
    {
     "data": {
      "image/png": "[encoded data removed]",
      "text/plain": [
       "<Figure size 640x480 with 1 Axes>"
      ]
     },
     "metadata": {},
     "output_type": "display_data"
    }
   ],
   "source": [
    "plt.plot(nn.epochs, nn.efficiency)"
   ]
  },
  {
   "cell_type": "code",
   "execution_count": 328,
   "id": "74185ce0",
   "metadata": {},
   "outputs": [
    {
     "name": "stdout",
     "output_type": "stream",
     "text": [
      "9\n"
     ]
    },
    {
     "data": {
      "text/plain": [
       "9"
      ]
     },
     "execution_count": 328,
     "metadata": {},
     "output_type": "execute_result"
    }
   ],
   "source": [
    "i = 9\n",
    "print(y_test[i])\n",
    "nn_answer = nn.predict(X_test[i])\n",
    "np.argmax(nn_answer)"
   ]
  },
  {
   "cell_type": "code",
   "execution_count": 454,
   "id": "bde312b3",
   "metadata": {},
   "outputs": [
    {
     "data": {
      "text/plain": [
       "[<matplotlib.lines.Line2D at 0x1dae65a48b0>]"
      ]
     },
     "execution_count": 454,
     "metadata": {},
     "output_type": "execute_result"
    },
    {
     "data": {
      "image/png": "[encoded data removed]",
      "text/plain": [
       "<Figure size 640x480 with 1 Axes>"
      ]
     },
     "metadata": {},
     "output_type": "display_data"
    }
   ],
   "source": [
    "nn_relu = NN(input_nodes, learning_rate)\n",
    "\n",
    "relu = Activation_Function(\n",
    "    lambda x : np.array([i if i > 0 else 0 for i in x]),\n",
    "    lambda x : np.array([1 if i >= 0 else 0 for i in x]), \n",
    "    0, 1\n",
    ")\n",
    "\n",
    "nn_relu.add_layer(Layer(hidden_nodes, relu))\n",
    "nn_relu.add_layer(Layer(output_nodes, sigmoid))\n",
    "\n",
    "nn_relu.fit_epochs(X, y, X_test, y_test, 15)\n",
    "plt.plot(nn_relu.epochs, nn_relu.efficiency)"
   ]
  },
  {
   "cell_type": "code",
   "execution_count": 455,
   "id": "36d4a54a",
   "metadata": {},
   "outputs": [
    {
     "data": {
      "text/plain": [
       "[<matplotlib.lines.Line2D at 0x1dae7141790>]"
      ]
     },
     "execution_count": 455,
     "metadata": {},
     "output_type": "execute_result"
    },
    {
     "data": {
      "image/png": "[encoded data removed]",
      "text/plain": [
       "<Figure size 640x480 with 1 Axes>"
      ]
     },
     "metadata": {},
     "output_type": "display_data"
    }
   ],
   "source": [
    "hyper_tan = Activation_Function(\n",
    "        lambda x : np.tanh(x), \n",
    "        lambda x : 1 - pow(np.tanh(x), 2),\n",
    "        0, 1\n",
    ")\n",
    "\n",
    "nn_tanh = NN(input_nodes, learning_rate)\n",
    "\n",
    "nn_tanh.add_layer(Layer(hidden_nodes, hyper_tan))\n",
    "nn_tanh.add_layer(Layer(output_nodes, hyper_tan))\n",
    "\n",
    "nn_tanh.fit_epochs(X, y, X_test, y_test, 15)\n",
    "plt.plot(nn_tanh.epochs, nn_tanh.efficiency)"
   ]
  },
  {
   "cell_type": "code",
   "execution_count": 450,
   "id": "62d347ab",
   "metadata": {},
   "outputs": [],
   "source": [
    "step = Activation_Function(\n",
    "            lambda x : np.array([1 if i > 0 else 0 for i in x]),\n",
    "            lambda x : np.array([0 if i >= 0 else 0 for i in x]),\n",
    "            0, 1\n",
    ")"
   ]
  },
  {
   "cell_type": "code",
   "execution_count": 449,
   "id": "24cb4a37",
   "metadata": {},
   "outputs": [
    {
     "data": {
      "text/plain": [
       "array([1., 1., 1., 1., 1., 1., 1., 1., 1.])"
      ]
     },
     "execution_count": 449,
     "metadata": {},
     "output_type": "execute_result"
    }
   ],
   "source": [
    "np.ones(9)"
   ]
  },
  {
   "cell_type": "code",
   "execution_count": 414,
   "id": "5fae6112",
   "metadata": {},
   "outputs": [
    {
     "name": "stdout",
     "output_type": "stream",
     "text": [
      "1\n"
     ]
    },
    {
     "data": {
      "text/plain": [
       "1"
      ]
     },
     "execution_count": 414,
     "metadata": {},
     "output_type": "execute_result"
    }
   ],
   "source": [
    "i = 5\n",
    "print(y_test[i])\n",
    "nn_answer = nn_tanh.predict(X_test[i])\n",
    "np.argmax(nn_answer)"
   ]
  },
  {
   "cell_type": "code",
   "execution_count": 427,
   "id": "4485bf57",
   "metadata": {},
   "outputs": [
    {
     "data": {
      "text/plain": [
       "0.0"
      ]
     },
     "execution_count": 427,
     "metadata": {},
     "output_type": "execute_result"
    }
   ],
   "source": [
    "np.array(X).flatten().min()"
   ]
  },
  {
   "cell_type": "code",
   "execution_count": 396,
   "id": "378b6ec5",
   "metadata": {},
   "outputs": [
    {
     "data": {
      "text/plain": [
       "8"
      ]
     },
     "execution_count": 396,
     "metadata": {},
     "output_type": "execute_result"
    }
   ],
   "source": [
    "t = lambda x : np.tanh(x)\n",
    "pow(2, 3)"
   ]
  },
  {
   "cell_type": "code",
   "execution_count": 403,
   "id": "837eb2ba",
   "metadata": {},
   "outputs": [
    {
     "data": {
      "text/plain": [
       "[<matplotlib.lines.Line2D at 0x1dae427fd90>]"
      ]
     },
     "execution_count": 403,
     "metadata": {},
     "output_type": "execute_result"
    },
    {
     "data": {
      "image/png": "[encoded data removed]",
      "text/plain": [
       "<Figure size 640x480 with 1 Axes>"
      ]
     },
     "metadata": {},
     "output_type": "display_data"
    }
   ],
   "source": [
    "plt.plot(np.arange(-9000, 9000) / 1000, np.tanh(np.arange(-9000, 9000) / 1000))"
   ]
  },
  {
   "cell_type": "code",
   "execution_count": 385,
   "id": "77772daa",
   "metadata": {},
   "outputs": [
    {
     "data": {
      "text/plain": [
       "1.0"
      ]
     },
     "execution_count": 385,
     "metadata": {},
     "output_type": "execute_result"
    }
   ],
   "source": [
    "a = lambda x:scipy.special.expit(x)\n",
    "a(np.inf)"
   ]
  },
  {
   "cell_type": "code",
   "execution_count": 365,
   "id": "d10498e4",
   "metadata": {},
   "outputs": [
    {
     "data": {
      "text/plain": [
       "-1.0"
      ]
     },
     "execution_count": 365,
     "metadata": {},
     "output_type": "execute_result"
    }
   ],
   "source": [
    "np.tanh(-np.inf)"
   ]
  },
  {
   "cell_type": "code",
   "execution_count": null,
   "id": "b8576c43",
   "metadata": {},
   "outputs": [],
   "source": []
  },
  {
   "cell_type": "code",
   "execution_count": 346,
   "id": "0b1bfbb5",
   "metadata": {},
   "outputs": [
    {
     "name": "stdout",
     "output_type": "stream",
     "text": [
      "[-1.9 -0.9  0.1  1.1]\n"
     ]
    },
    {
     "data": {
      "text/plain": [
       "[0, 0, 0.10000000000000009, 1.1]"
      ]
     },
     "execution_count": 346,
     "metadata": {},
     "output_type": "execute_result"
    }
   ],
   "source": [
    "a = lambda x: x if x.all() > 0 else 0\n",
    "a = lambda x : [i if i > 0 else 0 for i in x]\n",
    "arr = np.arange(4)- 1.9 \n",
    "print(arr)\n",
    "a(arr)"
   ]
  },
  {
   "cell_type": "code",
   "execution_count": 344,
   "id": "0aa8fab3",
   "metadata": {},
   "outputs": [
    {
     "data": {
      "text/plain": [
       "[1, 4, 0, 3]"
      ]
     },
     "execution_count": 344,
     "metadata": {},
     "output_type": "execute_result"
    }
   ],
   "source": [
    "x = [1,4,-8,3]\n",
    "[i if i > 0 else 0 for i in x]"
   ]
  },
  {
   "cell_type": "code",
   "execution_count": null,
   "id": "ca8fd234",
   "metadata": {},
   "outputs": [],
   "source": [
    "def relu(x):\n",
    "    res = []\n",
    "    for i in x:\n",
    "        i"
   ]
  }
 ],
 "metadata": {
  "kernelspec": {
   "display_name": "Python 3 (ipykernel)",
   "language": "python",
   "name": "python3"
  },
  "language_info": {
   "codemirror_mode": {
    "name": "ipython",
    "version": 3
   },
   "file_extension": ".py",
   "mimetype": "text/x-python",
   "name": "python",
   "nbconvert_exporter": "python",
   "pygments_lexer": "ipython3",
   "version": "3.9.13"
  }
 },
 "nbformat": 4,
 "nbformat_minor": 5
}
